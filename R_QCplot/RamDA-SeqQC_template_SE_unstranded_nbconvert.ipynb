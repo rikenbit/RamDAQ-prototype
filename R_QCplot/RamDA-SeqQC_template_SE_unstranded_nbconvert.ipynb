{
 "cells": [
  {
   "cell_type": "markdown",
   "metadata": {},
   "source": [
    "# RamDAQ QC report (SE)"
   ]
  },
  {
   "cell_type": "markdown",
   "metadata": {},
   "source": [
    "## 1. Preparation (Just ignore this section!)\n",
    "In this section, we prepare for visualization of QC results.\n",
    "\n",
    "### Directory setting"
   ]
  },
  {
   "cell_type": "code",
   "execution_count": null,
   "metadata": {},
   "outputs": [],
   "source": [
    "### working Dir (QCdata parent dir : \"output_\" + Project_id)\n",
    "workdir = \"/data\"\n",
    "\n",
    "### RamDA-QC-pipeline Dir\n",
    "scriptdir = \"/accessory/\""
   ]
  },
  {
   "cell_type": "code",
   "execution_count": null,
   "metadata": {},
   "outputs": [],
   "source": [
    "setwd(workdir)\n",
    "getwd()\n",
    "\n",
    "source(paste0(scriptdir, \"/00_sampleQC_function_nbconvert.R\"))\n",
    "outdir = \"\""
   ]
  },
  {
   "cell_type": "markdown",
   "metadata": {},
   "source": [
    "### Loading 'sample blacklist' (list of samples (cells) to be excluded from QC)\n",
    "\n",
    "If the 'sample blacklist' is provided, samples (cells) in the list are excluded from QC results."
   ]
  },
  {
   "cell_type": "code",
   "execution_count": null,
   "metadata": {},
   "outputs": [],
   "source": [
    "exclude_samplelist_path = paste0(workdir, \"/exclude_samplelist.txt\")\n",
    "\n",
    "if (file.exists(exclude_samplelist_path)){\n",
    "  exclude_samplename = scan(exclude_samplelist_path, what=character(), sep=\"\\n\", blank.lines.skip = F)\n",
    "  exclude_samplename = exclude_samplename[exclude_samplename != \"\"]\n",
    "  exclude_samplename\n",
    "} else {\n",
    "  cat(\"exclude samplelist not found.\")\n",
    "  exclude_samplename = \"\"\n",
    "}"
   ]
  },
  {
   "cell_type": "markdown",
   "metadata": {},
   "source": [
    "### Loading QC result files"
   ]
  },
  {
   "cell_type": "markdown",
   "metadata": {},
   "source": [
    "#### FastQC results"
   ]
  },
  {
   "cell_type": "code",
   "execution_count": null,
   "metadata": {},
   "outputs": [],
   "source": [
    "fastqc_SE_001 = read.table(paste0(workdir, \"/summary_fastQC_result.txt\"), sep=\"\\t\", comment.char = \"\", header=T, stringsAsFactors=F)\n",
    "\n",
    "### edit data table\n",
    "fastqc_SE_001 = trim_dataset(fastqc_SE_001)\n",
    "head(fastqc_SE_001)"
   ]
  },
  {
   "cell_type": "markdown",
   "metadata": {},
   "source": [
    "#### RSeQC results\n",
    "##### >> readDistribution"
   ]
  },
  {
   "cell_type": "code",
   "execution_count": null,
   "metadata": {},
   "outputs": [],
   "source": [
    "### unstranded\n",
    "readDist_SE_001 = read.table(paste0(workdir, \"/summary_RSeQC_ReadDist_results_SE_sort.txt\"), sep=\"\\t\", comment.char = \"\", header=T, stringsAsFactors=F)\n",
    "\n",
    "### edit data table\n",
    "readDist_SE_001 = trim_dataset(readDist_SE_001)\n",
    "head(readDist_SE_001)"
   ]
  },
  {
   "cell_type": "markdown",
   "metadata": {},
   "source": [
    "##### >> geneBC"
   ]
  },
  {
   "cell_type": "code",
   "execution_count": null,
   "metadata": {},
   "outputs": [],
   "source": [
    "### unstranded\n",
    "geneBC_SE_001 = read.table(paste0(workdir, \"/summary_RSeQC_geneBC_results_SE_sort.txt\"), sep=\"\\t\", comment.char = \"\", header=T, stringsAsFactors=F)\n",
    "\n",
    "### edit data table\n",
    "geneBC_SE_001 = trim_dataset(geneBC_SE_001)\n",
    "head(geneBC_SE_001)"
   ]
  },
  {
   "cell_type": "markdown",
   "metadata": {},
   "source": [
    "##### >> infer_experiment"
   ]
  },
  {
   "cell_type": "code",
   "execution_count": null,
   "metadata": {},
   "outputs": [],
   "source": [
    "infer_SE_001 = read.table(paste0(workdir, \"/summary_RSeQC_inferexperiment_results_SE_sort.txt\"), sep=\"\\t\", comment.char = \"\", header=T, stringsAsFactors=F)\n",
    "\n",
    "### edit data table\n",
    "infer_SE_001 = trim_dataset(infer_SE_001)\n",
    "head(infer_SE_001)"
   ]
  },
  {
   "cell_type": "markdown",
   "metadata": {},
   "source": [
    "#### High-sensitivity rRNA QC results"
   ]
  },
  {
   "cell_type": "code",
   "execution_count": null,
   "metadata": {},
   "outputs": [],
   "source": [
    "highsensitivity_rrna_result_path = paste0(workdir, \"/highsensitivity_rrnaQC_summary/featureCounts.hisat2_G.T.R_loose_mapped.summary_simple.txt\")\n",
    "\n",
    "if (file.exists(highsensitivity_rrna_result_path)){\n",
    "  highsenst_rrna_SE_001 = read.table(highsensitivity_rrna_result_path, sep=\"\\t\", comment.char = \"\", header=T, stringsAsFactors=F)\n",
    "\n",
    "  ### edit data table\n",
    "  highsenst_rrna_SE_001 = trim_dataset(highsenst_rrna_SE_001)\n",
    "  head(highsenst_rrna_SE_001)\n",
    "} else {\n",
    "  cat(\"highsensitivity rrnaQC results not found.\")\n",
    "}"
   ]
  },
  {
   "cell_type": "markdown",
   "metadata": {},
   "source": [
    "#### featureCounts results"
   ]
  },
  {
   "cell_type": "markdown",
   "metadata": {},
   "source": [
    "##### >> featureCounts mRNA (transcript-level) results"
   ]
  },
  {
   "cell_type": "code",
   "execution_count": null,
   "metadata": {},
   "outputs": [],
   "source": [
    "fcount_SE_mrna_Ts_001 = read.table(paste0(workdir, \"/summary_featurecounts_results_gencode_mrna_transcript.txt\"), sep=\"\\t\", comment.char = \"\", header=T, stringsAsFactors=F)\n",
    "\n",
    "### edit data table\n",
    "fcount_SE_mrna_Ts_001 = trim_dataset(fcount_SE_mrna_Ts_001)\n",
    "head(fcount_SE_mrna_Ts_001)"
   ]
  },
  {
   "cell_type": "markdown",
   "metadata": {},
   "source": [
    "##### >> featureCounts mt results"
   ]
  },
  {
   "cell_type": "code",
   "execution_count": null,
   "metadata": {},
   "outputs": [],
   "source": [
    "fcount_SE_mt_Ts_001 = read.table(paste0(workdir, \"/summary_featurecounts_results_gencode_mt_transcript.txt\"), sep=\"\\t\", comment.char = \"\", header=T, stringsAsFactors=F)\n",
    "\n",
    "### edit data table\n",
    "fcount_SE_mt_Ts_001 = trim_dataset(fcount_SE_mt_Ts_001)\n",
    "head(fcount_SE_mt_Ts_001)"
   ]
  },
  {
   "cell_type": "markdown",
   "metadata": {},
   "source": [
    "##### >> featureCounts rRNA results"
   ]
  },
  {
   "cell_type": "code",
   "execution_count": null,
   "metadata": {},
   "outputs": [],
   "source": [
    "fcount_SE_rrna_Ts_001 = read.table(paste0(workdir, \"/summary_featurecounts_results_gencode_rrna_transcript.txt\"), sep=\"\\t\", comment.char = \"\", header=T, stringsAsFactors=F)\n",
    "\n",
    "### edit data table\n",
    "fcount_SE_rrna_Ts_001 = trim_dataset(fcount_SE_rrna_Ts_001)\n",
    "head(fcount_SE_rrna_Ts_001)"
   ]
  },
  {
   "cell_type": "markdown",
   "metadata": {},
   "source": [
    "##### >> featureCounts mRNA (gene-level) results"
   ]
  },
  {
   "cell_type": "code",
   "execution_count": null,
   "metadata": {},
   "outputs": [],
   "source": [
    "fcount_SE_mrna_gene_001 = read.table(paste0(workdir, \"/summary_featurecounts_results_gencode_mrna_gene.txt\"), sep=\"\\t\", comment.char = \"\", header=T, stringsAsFactors=F)\n",
    "\n",
    "### edit data table\n",
    "fcount_SE_mrna_gene_001 = trim_dataset(fcount_SE_mrna_gene_001)\n",
    "head(fcount_SE_mrna_gene_001)"
   ]
  },
  {
   "cell_type": "markdown",
   "metadata": {},
   "source": [
    "##### >> Calculating RPKM from featureCounts results"
   ]
  },
  {
   "cell_type": "code",
   "execution_count": null,
   "metadata": {},
   "outputs": [],
   "source": [
    "fcount_SE_merge_001 = read.table(paste0(workdir, \"/mergefcounts_gencode_mrna_gene.txt\"), sep=\"\\t\", comment.char = \"\", header=T, stringsAsFactors=F)\n",
    "\n",
    "dim(fcount_SE_merge_001)"
   ]
  },
  {
   "cell_type": "code",
   "execution_count": null,
   "metadata": {},
   "outputs": [],
   "source": [
    "gene_length = data.frame(Geneid=fcount_SE_merge_001$Geneid, length=fcount_SE_merge_001$Length, stringsAsFactors=F)\n",
    "head(gene_length)\n",
    "\n",
    "### check \"ERCC lengh\" contains\n",
    "dim(subset(gene_length, grepl(\"ERCC\", Geneid)))"
   ]
  },
  {
   "cell_type": "code",
   "execution_count": null,
   "metadata": {},
   "outputs": [],
   "source": [
    "fcount_SE_merge_001_rpkm_set = calc_rpkm_counts(fcount_SE_merge_001, gene_length, exclude_name=exclude_samplename)\n",
    "\n",
    "dim(fcount_SE_merge_001_rpkm_set$rpkm)\n",
    "dim(fcount_SE_merge_001_rpkm_set$rpkm_log)"
   ]
  },
  {
   "cell_type": "code",
   "execution_count": null,
   "metadata": {},
   "outputs": [],
   "source": [
    "fcount_SE_merge_001_rpkm_gene = fcount_SE_merge_001_rpkm_set$rpkm[!grepl(\"ERCC\", rownames(fcount_SE_merge_001_rpkm_set$rpkm)),]\n",
    "fcount_SE_merge_001_rpkm_gene_log = log10(fcount_SE_merge_001_rpkm_gene+1)\n",
    "\n",
    "dim(fcount_SE_merge_001_rpkm_gene)\n",
    "dim(fcount_SE_merge_001_rpkm_gene_log)"
   ]
  },
  {
   "cell_type": "markdown",
   "metadata": {},
   "source": [
    "## 2. Plots of QC results\n",
    "In this section, we will make plots of QC results."
   ]
  },
  {
   "cell_type": "markdown",
   "metadata": {},
   "source": [
    "### Fig. 1: FastQC results (All cells)"
   ]
  },
  {
   "cell_type": "markdown",
   "metadata": {},
   "source": [
    "#### >> The total number of sequenced reads"
   ]
  },
  {
   "cell_type": "code",
   "execution_count": null,
   "metadata": {},
   "outputs": [],
   "source": [
    "g1 = plot_totalseq(fastqc_SE_001, \"fastq_totalseq\", outdir)\n",
    "\n",
    "options(repr.plot.width=10, repr.plot.height=4)\n",
    "plot_grid (g1)"
   ]
  },
  {
   "cell_type": "markdown",
   "metadata": {},
   "source": [
    "#### >> Average of %GC of sequenced reads"
   ]
  },
  {
   "cell_type": "code",
   "execution_count": null,
   "metadata": {},
   "outputs": [],
   "source": [
    "g1 = plot_perGC(fastqc_SE_001, \"fastq_perGC\", outdir)\n",
    "\n",
    "options(repr.plot.width=10, repr.plot.height=4)\n",
    "plot_grid (g1)"
   ]
  },
  {
   "cell_type": "markdown",
   "metadata": {},
   "source": [
    "### Fig. 2: Read Distribution ('blacklist' samples (cells) are excluded)"
   ]
  },
  {
   "cell_type": "markdown",
   "metadata": {},
   "source": [
    "#### >> Rate of reads mapped to genome"
   ]
  },
  {
   "cell_type": "code",
   "execution_count": null,
   "metadata": {},
   "outputs": [],
   "source": [
    "g1 = plot_assignedgene_rate(fastqc_SE_001, readDist_SE_001, \"fastq_genome_assigned_rate\", outdir, 100, nonplot=exclude_samplename)\n",
    "\n",
    "options(repr.plot.width=10, repr.plot.height=4)\n",
    "plot_grid (g1)"
   ]
  },
  {
   "cell_type": "markdown",
   "metadata": {},
   "source": [
    "####  >> Distribution of mapped reads over genomic features\n",
    "\n",
    "For RamDA-seq, in addition to the CDS, 5UTR, and 3UTR fractions, intron fractions shows relatively high proportion. This is a feature of total RNA-seq methods."
   ]
  },
  {
   "cell_type": "code",
   "execution_count": null,
   "metadata": {},
   "outputs": [],
   "source": [
    "g1 = plot_readDist_summary(readDist_SE_001, \"bam_readDistribution\", outdir, nonplot=exclude_samplename)\n",
    "\n",
    "options(repr.plot.width=6, repr.plot.height=7)\n",
    "plot_grid(g1)"
   ]
  },
  {
   "cell_type": "markdown",
   "metadata": {},
   "source": [
    "### Fig. 3: Gene body coverage ('blacklist' samples (cells) are excluded)\n",
    "This figure shows mean read coverage over transcripts.\n",
    "\n",
    "If the values from 5′ to 3′ are high and constant, it indicates the samples (cells) show full-length transcript coverage."
   ]
  },
  {
   "cell_type": "code",
   "execution_count": null,
   "metadata": {},
   "outputs": [],
   "source": [
    "g1 = plot_geneBodyCov_heatmap(geneBC_SE_001, \"bam_geneBodyCoverage\", \"\", outdir, nonplot=exclude_samplename)\n",
    "\n",
    "options(repr.plot.width=5, repr.plot.height=4)\n",
    "plot_grid(g1)"
   ]
  },
  {
   "cell_type": "markdown",
   "metadata": {},
   "source": [
    "### Fig. 4: Strandness ('blacklist' samples (cells) are excluded)\n",
    "\n",
    "This figure shows the proportion of reads classified as 'sense', 'antisense', or 'undetermined' acoording to the gene annotation.\n",
    "\n",
    "The QC result varies depending on whether the experimental protocol is unstranded or stranded ones.\n",
    "\n",
    "- If the experimental protocol is unstranded, the proportions of 'sense_fraction' **and** 'antisense_fraction' are similar.\n",
    "- If the experimental protocol is stranded, the proportions of 'sense_fraction' **or** 'antisense_fraction' are dominant."
   ]
  },
  {
   "cell_type": "code",
   "execution_count": null,
   "metadata": {},
   "outputs": [],
   "source": [
    "g1 = plot_bar_inferexp(infer_SE_001, \"bam_inferexperiment\", outdir, nonplot=exclude_samplename)\n",
    "\n",
    "options(repr.plot.width=10, repr.plot.height=4)\n",
    "plot_grid (g1)"
   ]
  },
  {
   "cell_type": "markdown",
   "metadata": {},
   "source": [
    "### Fig. 5: High sensitivity rrna mapping QC ('blacklist' samples (cells) are excluded)\n",
    "This figure shows the proportion of reads mapped to rRNA genes.\n"
   ]
  },
  {
   "cell_type": "code",
   "execution_count": null,
   "metadata": {},
   "outputs": [],
   "source": [
    "if (file.exists(highsensitivity_rrna_result_path)){\n",
    "    \n",
    "    g1 = plot_bar_highsenst_rrna(highsenst_rrna_SE_001, \"bam_highsensitivity_rrnaQC\", outdir, nonplot=exclude_samplename)\n",
    "\n",
    "    options(repr.plot.width=10, repr.plot.height=4)\n",
    "    plot_grid (g1)   \n",
    "} else {\n",
    "  cat(\"highsensitivity rrnaQC results not found.\")\n",
    "}"
   ]
  },
  {
   "cell_type": "markdown",
   "metadata": {},
   "source": [
    "### Fig. 6: Percentage of reads assigned to genes ('blacklist' samples (cells) are excluded)\n",
    "The below figures show the percentage of reads assigned to genes based on featureCounts results."
   ]
  },
  {
   "cell_type": "markdown",
   "metadata": {},
   "source": [
    "#### >> mRNA (gene level)"
   ]
  },
  {
   "cell_type": "code",
   "execution_count": null,
   "metadata": {},
   "outputs": [],
   "source": [
    "g1 = plot_assigned_rate(fcount_SE_mrna_gene_001, \"featurecounts_mRNA_gene\", outdir, ylim=100, nonplot=exclude_samplename)\n",
    "\n",
    "options(repr.plot.width=10, repr.plot.height=4)\n",
    "plot_grid (g1)"
   ]
  },
  {
   "cell_type": "markdown",
   "metadata": {},
   "source": [
    "#### >> mRNA (transcript level)"
   ]
  },
  {
   "cell_type": "code",
   "execution_count": null,
   "metadata": {},
   "outputs": [],
   "source": [
    "g1 = plot_assigned_rate(fcount_SE_mrna_Ts_001, \"featurecounts_mRNA_Ts\", outdir, ylim=100, nonplot=exclude_samplename)\n",
    "\n",
    "options(repr.plot.width=10, repr.plot.height=4)\n",
    "plot_grid (g1)"
   ]
  },
  {
   "cell_type": "markdown",
   "metadata": {},
   "source": [
    "#### >> mitocondria (transcript level)"
   ]
  },
  {
   "cell_type": "code",
   "execution_count": null,
   "metadata": {},
   "outputs": [],
   "source": [
    "g1 = plot_assigned_rate(fcount_SE_mt_Ts_001, \"featurecounts_mitocondria_Ts\", outdir, ylim=100, nonplot=exclude_samplename)\n",
    "\n",
    "options(repr.plot.width=10, repr.plot.height=4)\n",
    "plot_grid (g1)"
   ]
  },
  {
   "cell_type": "markdown",
   "metadata": {},
   "source": [
    "#### >> rRNA (transcript level)"
   ]
  },
  {
   "cell_type": "code",
   "execution_count": null,
   "metadata": {},
   "outputs": [],
   "source": [
    "g1 = plot_assigned_rate(fcount_SE_rrna_Ts_001, \"featurecounts_rRNA_Ts\", outdir, ylim=100, nonplot=exclude_samplename)\n",
    "\n",
    "options(repr.plot.width=10, repr.plot.height=4)\n",
    "plot_grid (g1)"
   ]
  },
  {
   "cell_type": "markdown",
   "metadata": {},
   "source": [
    "## 3. Plots of number of detected genes\n"
   ]
  },
  {
   "cell_type": "markdown",
   "metadata": {},
   "source": [
    "#### >> Correlation of expression levels\n",
    "Some samples (cells) are randomly chosen, and expression levels between cells are plotted.\n"
   ]
  },
  {
   "cell_type": "code",
   "execution_count": null,
   "metadata": {},
   "outputs": [],
   "source": [
    "### plot detgenes num\n",
    "options(repr.plot.width=6, repr.plot.height=6)\n",
    "bar_detgene_001 = plot_detgene_bar(fcount_SE_merge_001_rpkm_gene, fcount_SE_merge_001_rpkm_gene_log, nonplot=exclude_samplename)"
   ]
  },
  {
   "cell_type": "markdown",
   "metadata": {},
   "source": [
    "#### >> Number of detected genes"
   ]
  },
  {
   "cell_type": "code",
   "execution_count": null,
   "metadata": {},
   "outputs": [],
   "source": [
    "options(repr.plot.width=10, repr.plot.height=4)\n",
    "plot_grid(bar_detgene_001)"
   ]
  },
  {
   "cell_type": "markdown",
   "metadata": {},
   "source": [
    "## 4. Plots of dimensionality reduction results\n",
    "The below figures show the results of PCA, tSNE, umap."
   ]
  },
  {
   "cell_type": "code",
   "execution_count": null,
   "metadata": {},
   "outputs": [],
   "source": [
    "### dimentional reduction\n",
    "fcount_SE_dimentrd_set = create_pca_tsne_umap(fcount_SE_merge_001_rpkm_gene_log, perplexity=10, local_connectivity=1.0, n_neighbors=15)"
   ]
  },
  {
   "cell_type": "code",
   "execution_count": null,
   "metadata": {},
   "outputs": [],
   "source": [
    "plot_pca = ggplot_2D(fcount_SE_dimentrd_set[[\"pca_df\"]], \"PC1\", \"PC2\", \"pca plot\", \"\", outdir)\n",
    "plot_tsne = ggplot_2D(fcount_SE_dimentrd_set[[\"tsne_df\"]], \"V1\", \"V2\", \"tsne plot\", \"\", outdir)\n",
    "plot_umap = ggplot_2D(fcount_SE_dimentrd_set[[\"umap_df\"]], \"V1\", \"V2\", \"umap plot\", \"\", outdir)\n",
    "\n",
    "options(repr.plot.width=4, repr.plot.height=10)\n",
    "plot_grid (plot_pca, plot_tsne, plot_umap, nrow = 3)"
   ]
  }
 ],
 "metadata": {
  "kernelspec": {
   "display_name": "R",
   "language": "R",
   "name": "ir"
  },
  "language_info": {
   "codemirror_mode": "r",
   "file_extension": ".r",
   "mimetype": "text/x-r-source",
   "name": "R",
   "pygments_lexer": "r",
   "version": "3.6.0"
  }
 },
 "nbformat": 4,
 "nbformat_minor": 4
}
