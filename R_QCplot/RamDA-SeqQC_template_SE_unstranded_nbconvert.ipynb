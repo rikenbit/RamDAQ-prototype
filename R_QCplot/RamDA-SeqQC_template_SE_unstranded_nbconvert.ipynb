{
 "cells": [
  {
   "cell_type": "markdown",
   "metadata": {},
   "source": [
    "# RamDA-SeqQC_template_SE (nbconvert)"
   ]
  },
  {
   "cell_type": "markdown",
   "metadata": {},
   "source": [
    "## Directory setting"
   ]
  },
  {
   "cell_type": "code",
   "execution_count": 1,
   "metadata": {},
   "outputs": [],
   "source": [
    "### working Dir (QCdata parent dir : \"output_\" + Project_id)\n",
    "workdir = \".\"\n",
    "\n",
    "### RamDA-QC-pipeline Dir\n",
    "scriptdir = \".\""
   ]
  },
  {
   "cell_type": "code",
   "execution_count": 4,
   "metadata": {},
   "outputs": [
    {
     "data": {
      "text/html": [
       "'/data/21_Nextflow_test/test_githubcode_SE_fixed/output_190527_nextflow_ramdaQC_SE_unstranded'"
      ],
      "text/latex": [
       "'/data/21\\_Nextflow\\_test/test\\_githubcode\\_SE\\_fixed/output\\_190527\\_nextflow\\_ramdaQC\\_SE\\_unstranded'"
      ],
      "text/markdown": [
       "'/data/21_Nextflow_test/test_githubcode_SE_fixed/output_190527_nextflow_ramdaQC_SE_unstranded'"
      ],
      "text/plain": [
       "[1] \"/data/21_Nextflow_test/test_githubcode_SE_fixed/output_190527_nextflow_ramdaQC_SE_unstranded\""
      ]
     },
     "metadata": {},
     "output_type": "display_data"
    }
   ],
   "source": [
    "setwd(workdir)\n",
    "getwd()\n",
    "\n",
    "source(paste0(scriptdir, \"/00_sampleQC_function_nbconvert.R\"))\n",
    "outdir = \"\""
   ]
  },
  {
   "cell_type": "markdown",
   "metadata": {},
   "source": [
    "## Loading exclude samplenames (blacklist)"
   ]
  },
  {
   "cell_type": "code",
   "execution_count": null,
   "metadata": {},
   "outputs": [],
   "source": [
    "exclude_samplelist_path = paste0(workdir, \"/exclude_samplelist.txt\")\n",
    "\n",
    "if (file.exists(exclude_samplelist_path)){\n",
    "  exclude_samplename = scan(exclude_samplelist_path, what=character(), sep=\"\\n\", blank.lines.skip = F)\n",
    "  exclude_samplename = exclude_samplename[exclude_samplename != \"\"]\n",
    "  exclude_samplename\n",
    "} else {\n",
    "  cat(\"exclude samplelist not found.\")\n",
    "  exclude_samplename = \"\"\n",
    "}"
   ]
  },
  {
   "cell_type": "markdown",
   "metadata": {},
   "source": [
    "## 1. read QC results files"
   ]
  },
  {
   "cell_type": "markdown",
   "metadata": {},
   "source": [
    "### > fastQC results"
   ]
  },
  {
   "cell_type": "code",
   "execution_count": 15,
   "metadata": {},
   "outputs": [],
   "source": [
    "fastqc_SE_001 = read.table(paste0(workdir, \"/summary_fastQC_result.txt\"), sep=\"\\t\", comment.char = \"\", header=T, stringsAsFactors=F)\n",
    "\n",
    "### edit data table\n",
    "fastqc_SE_001 = trim_dataset(fastqc_SE_001)\n",
    "head(fastqc_SE_001)"
   ]
  },
  {
   "cell_type": "markdown",
   "metadata": {},
   "source": [
    "### > RSeQC results (readDistribution)"
   ]
  },
  {
   "cell_type": "code",
   "execution_count": 17,
   "metadata": {},
   "outputs": [],
   "source": [
    "### unstranded\n",
    "readDist_SE_001 = read.table(paste0(workdir, \"/summary_RSeQC_ReadDist_results_SE_sort.txt\"), sep=\"\\t\", comment.char = \"\", header=T, stringsAsFactors=F)\n",
    "\n",
    "### edit data table\n",
    "readDist_SE_001 = trim_dataset(readDist_SE_001)\n",
    "head(readDist_SE_001)"
   ]
  },
  {
   "cell_type": "markdown",
   "metadata": {},
   "source": [
    "### > RSeQC results  (geneBC)"
   ]
  },
  {
   "cell_type": "code",
   "execution_count": 18,
   "metadata": {},
   "outputs": [],
   "source": [
    "### unstranded\n",
    "geneBC_SE_001 = read.table(paste0(workdir, \"/summary_RSeQC_geneBC_results_SE_sort.txt\"), sep=\"\\t\", comment.char = \"\", header=T, stringsAsFactors=F)\n",
    "\n",
    "### edit data table\n",
    "geneBC_SE_001 = trim_dataset(geneBC_SE_001)\n",
    "head(geneBC_SE_001)"
   ]
  },
  {
   "cell_type": "markdown",
   "metadata": {},
   "source": [
    "### > RSeQC results  (infer_experiment)"
   ]
  },
  {
   "cell_type": "code",
   "execution_count": 20,
   "metadata": {},
   "outputs": [],
   "source": [
    "infer_SE_001 = read.table(paste0(workdir, \"/summary_RSeQC_inferexperiment_results_SE_sort.txt\"), sep=\"\\t\", comment.char = \"\", header=T, stringsAsFactors=F)\n",
    "\n",
    "### edit data table\n",
    "infer_SE_001 = trim_dataset(infer_SE_001)\n",
    "head(infer_SE_001)"
   ]
  },
  {
   "cell_type": "markdown",
   "metadata": {},
   "source": [
    "### > highsensitivity rrna QC"
   ]
  },
  {
   "cell_type": "code",
   "execution_count": null,
   "metadata": {},
   "outputs": [],
   "source": [
    "highsensitivity_rrna_result_path = paste0(workdir, \"/highsensitivity_rrnaQC_summary/featureCounts.hisat2_G.T.R_loose_mapped.summary_simple.txt\")\n",
    "\n",
    "if (file.exists(highsensitivity_rrna_result_path)){\n",
    "  highsenst_rrna_SE_001 = read.table(highsensitivity_rrna_result_path, sep=\"\\t\", comment.char = \"\", header=T, stringsAsFactors=F)\n",
    "\n",
    "  ### edit data table\n",
    "  highsenst_rrna_SE_001 = trim_dataset(highsenst_rrna_SE_001)\n",
    "  head(highsenst_rrna_SE_001)\n",
    "} else {\n",
    "  cat(\"highsensitivity rrnaQC results not found.\")\n",
    "}"
   ]
  },
  {
   "cell_type": "markdown",
   "metadata": {},
   "source": [
    "### > featurecounts results"
   ]
  },
  {
   "cell_type": "markdown",
   "metadata": {},
   "source": [
    "#### >> featurecounts mrna results"
   ]
  },
  {
   "cell_type": "code",
   "execution_count": 25,
   "metadata": {},
   "outputs": [],
   "source": [
    "fcount_SE_mrna_Ts_001 = read.table(paste0(workdir, \"/summary_featurecounts_results_gencode_mrna_transcript.txt\"), sep=\"\\t\", comment.char = \"\", header=T, stringsAsFactors=F)\n",
    "\n",
    "### edit data table\n",
    "fcount_SE_mrna_Ts_001 = trim_dataset(fcount_SE_mrna_Ts_001)\n",
    "head(fcount_SE_mrna_Ts_001)"
   ]
  },
  {
   "cell_type": "markdown",
   "metadata": {},
   "source": [
    "#### >> featurecounts mt results"
   ]
  },
  {
   "cell_type": "code",
   "execution_count": 22,
   "metadata": {},
   "outputs": [],
   "source": [
    "fcount_SE_mt_Ts_001 = read.table(paste0(workdir, \"/summary_featurecounts_results_gencode_mt_transcript.txt\"), sep=\"\\t\", comment.char = \"\", header=T, stringsAsFactors=F)\n",
    "\n",
    "### edit data table\n",
    "fcount_SE_mt_Ts_001 = trim_dataset(fcount_SE_mt_Ts_001)\n",
    "head(fcount_SE_mt_Ts_001)"
   ]
  },
  {
   "cell_type": "markdown",
   "metadata": {},
   "source": [
    "#### >> featurecounts rrna results"
   ]
  },
  {
   "cell_type": "code",
   "execution_count": 40,
   "metadata": {},
   "outputs": [],
   "source": [
    "fcount_SE_rrna_Ts_001 = read.table(paste0(workdir, \"/summary_featurecounts_results_gencode_rrna_transcript.txt\"), sep=\"\\t\", comment.char = \"\", header=T, stringsAsFactors=F)\n",
    "\n",
    "### edit data table\n",
    "fcount_SE_rrna_Ts_001 = trim_dataset(fcount_SE_rrna_Ts_001)\n",
    "head(fcount_SE_rrna_Ts_001)"
   ]
  },
  {
   "cell_type": "markdown",
   "metadata": {},
   "source": [
    "#### >> featurecounts mrna_gene results"
   ]
  },
  {
   "cell_type": "code",
   "execution_count": 23,
   "metadata": {},
   "outputs": [],
   "source": [
    "fcount_SE_mrna_gene_001 = read.table(paste0(workdir, \"/summary_featurecounts_results_gencode_mrna_gene.txt\"), sep=\"\\t\", comment.char = \"\", header=T, stringsAsFactors=F)\n",
    "\n",
    "### edit data table\n",
    "fcount_SE_mrna_gene_001 = trim_dataset(fcount_SE_mrna_gene_001)\n",
    "head(fcount_SE_mrna_gene_001)"
   ]
  },
  {
   "cell_type": "markdown",
   "metadata": {},
   "source": [
    "## 2. plotting QC results"
   ]
  },
  {
   "cell_type": "markdown",
   "metadata": {},
   "source": [
    "### Fig1. FastQC results (all samples)"
   ]
  },
  {
   "cell_type": "markdown",
   "metadata": {},
   "source": [
    "#### >> total-seq"
   ]
  },
  {
   "cell_type": "code",
   "execution_count": null,
   "metadata": {},
   "outputs": [],
   "source": [
    "g1 = plot_totalseq(fastqc_SE_001, \"fastq_totalseq\", outdir)\n",
    "\n",
    "options(repr.plot.width=10, repr.plot.height=4)\n",
    "plot_grid (g1)"
   ]
  },
  {
   "cell_type": "markdown",
   "metadata": {},
   "source": [
    "#### >> perGC"
   ]
  },
  {
   "cell_type": "code",
   "execution_count": null,
   "metadata": {},
   "outputs": [],
   "source": [
    "g1 = plot_perGC(fastqc_SE_001, \"fastq_perGC\", outdir)\n",
    "\n",
    "options(repr.plot.width=10, repr.plot.height=4)\n",
    "plot_grid (g1)"
   ]
  },
  {
   "cell_type": "markdown",
   "metadata": {},
   "source": [
    "### Fig2. Read Distribution (exclude blacklist)"
   ]
  },
  {
   "cell_type": "code",
   "execution_count": null,
   "metadata": {},
   "outputs": [],
   "source": [
    "g1 = plot_readDist_summary(readDist_SE_001, \"bam_readDistribution\", outdir, nonplot=exclude_samplename)\n",
    "\n",
    "options(repr.plot.width=6, repr.plot.height=7)\n",
    "plot_grid(g1)"
   ]
  },
  {
   "cell_type": "markdown",
   "metadata": {},
   "source": [
    "#### >> genome assigned rate"
   ]
  },
  {
   "cell_type": "code",
   "execution_count": null,
   "metadata": {},
   "outputs": [],
   "source": [
    "g1 = plot_assignedgene_rate(fastqc_SE_001, readDist_SE_001, \"fastq_genome_assigned_rate\", outdir, 100, nonplot=exclude_samplename)\n",
    "\n",
    "options(repr.plot.width=10, repr.plot.height=4)\n",
    "plot_grid (g1)"
   ]
  },
  {
   "cell_type": "markdown",
   "metadata": {},
   "source": [
    "### Fig3. Gene body coverage (exclude blacklist)"
   ]
  },
  {
   "cell_type": "code",
   "execution_count": null,
   "metadata": {},
   "outputs": [],
   "source": [
    "g1 = plot_geneBodyCov_heatmap(geneBC_SE_001, \"bam_geneBodyCoverage\", \"\", outdir, nonplot=exclude_samplename)\n",
    "\n",
    "options(repr.plot.width=5, repr.plot.height=4)\n",
    "plot_grid(g1)"
   ]
  },
  {
   "cell_type": "markdown",
   "metadata": {},
   "source": [
    "### Fig4. Inferexperiment (exclude blacklist)"
   ]
  },
  {
   "cell_type": "code",
   "execution_count": null,
   "metadata": {},
   "outputs": [],
   "source": [
    "g1 = plot_bar_inferexp(infer_SE_001, \"bam_inferexperiment\", outdir, nonplot=exclude_samplename)\n",
    "\n",
    "options(repr.plot.width=10, repr.plot.height=4)\n",
    "plot_grid (g1)"
   ]
  },
  {
   "cell_type": "markdown",
   "metadata": {},
   "source": [
    "### Fig5. Highsensitivity rrna mapping QC (exclude blacklist)"
   ]
  },
  {
   "cell_type": "code",
   "execution_count": null,
   "metadata": {},
   "outputs": [],
   "source": [
    "if (file.exists(highsensitivity_rrna_result_path)){\n",
    "    \n",
    "    g1 = plot_bar_highsenst_rrna(highsenst_rrna_SE_001, \"bam_highsensitivity_rrnaQC\", outdir, nonplot=exclude_samplename)\n",
    "\n",
    "    options(repr.plot.width=10, repr.plot.height=4)\n",
    "    plot_grid (g1)   \n",
    "} else {\n",
    "  cat(\"highsensitivity rrnaQC results not found.\")\n",
    "}"
   ]
  },
  {
   "cell_type": "markdown",
   "metadata": {},
   "source": [
    "### Fig6. featurecounts (exclude blacklist)"
   ]
  },
  {
   "cell_type": "markdown",
   "metadata": {},
   "source": [
    "#### >> mRNA, Ts"
   ]
  },
  {
   "cell_type": "code",
   "execution_count": null,
   "metadata": {},
   "outputs": [],
   "source": [
    "g1 = plot_assigned_rate(fcount_SE_mrna_Ts_001, \"featurecounts_mRNA_Ts\", outdir, ylim=100, nonplot=exclude_samplename)\n",
    "\n",
    "options(repr.plot.width=10, repr.plot.height=4)\n",
    "plot_grid (g1)"
   ]
  },
  {
   "cell_type": "markdown",
   "metadata": {},
   "source": [
    "#### >> mitocondria, Ts"
   ]
  },
  {
   "cell_type": "code",
   "execution_count": null,
   "metadata": {},
   "outputs": [],
   "source": [
    "g1 = plot_assigned_rate(fcount_SE_mt_Ts_001, \"featurecounts_mitocondria_Ts\", outdir, ylim=100, nonplot=exclude_samplename)\n",
    "\n",
    "options(repr.plot.width=10, repr.plot.height=4)\n",
    "plot_grid (g1)"
   ]
  },
  {
   "cell_type": "markdown",
   "metadata": {},
   "source": [
    "#### >> rRNA, Ts"
   ]
  },
  {
   "cell_type": "code",
   "execution_count": null,
   "metadata": {},
   "outputs": [],
   "source": [
    "g1 = plot_assigned_rate(fcount_SE_rrna_Ts_001, \"featurecounts_rRNA_Ts\", outdir, ylim=100, nonplot=exclude_samplename)\n",
    "\n",
    "options(repr.plot.width=10, repr.plot.height=4)\n",
    "plot_grid (g1)"
   ]
  },
  {
   "cell_type": "markdown",
   "metadata": {},
   "source": [
    "#### >> mRNA, Gene"
   ]
  },
  {
   "cell_type": "code",
   "execution_count": null,
   "metadata": {},
   "outputs": [],
   "source": [
    "g1 = plot_assigned_rate(fcount_SE_mrna_gene_001, \"featurecounts_mRNA_gene\", outdir, ylim=100, nonplot=exclude_samplename)\n",
    "\n",
    "options(repr.plot.width=10, repr.plot.height=4)\n",
    "plot_grid (g1)"
   ]
  },
  {
   "cell_type": "markdown",
   "metadata": {},
   "source": [
    "## 3. calc RPKM counts from featurecounts result"
   ]
  },
  {
   "cell_type": "code",
   "execution_count": null,
   "metadata": {},
   "outputs": [],
   "source": [
    "fcount_SE_merge_001 = read.table(paste0(workdir, \"/mergefcounts_gencode_mrna_gene.txt\"), sep=\"\\t\", comment.char = \"\", header=T, stringsAsFactors=F)\n",
    "\n",
    "dim(fcount_SE_merge_001)"
   ]
  },
  {
   "cell_type": "code",
   "execution_count": null,
   "metadata": {},
   "outputs": [],
   "source": [
    "gene_length = data.frame(Geneid=fcount_SE_merge_001$Geneid, length=fcount_SE_merge_001$Length, stringsAsFactors=F)\n",
    "head(gene_length)\n",
    "\n",
    "### check \"ERCC lengh\" contains\n",
    "dim(subset(gene_length, grepl(\"ERCC\", Geneid)))"
   ]
  },
  {
   "cell_type": "markdown",
   "metadata": {},
   "source": [
    "## 4. plotting detected genes num"
   ]
  },
  {
   "cell_type": "code",
   "execution_count": null,
   "metadata": {},
   "outputs": [],
   "source": [
    "fcount_SE_merge_001_rpkm_set = calc_rpkm_counts(fcount_SE_merge_001, gene_length, exclude_name=exclude_samplename)\n",
    "\n",
    "dim(fcount_SE_merge_001_rpkm_set$rpkm)\n",
    "dim(fcount_SE_merge_001_rpkm_set$rpkm_log)"
   ]
  },
  {
   "cell_type": "code",
   "execution_count": null,
   "metadata": {},
   "outputs": [],
   "source": [
    "fcount_SE_merge_001_rpkm_gene = fcount_SE_merge_001_rpkm_set$rpkm[!grepl(\"ERCC\", rownames(fcount_SE_merge_001_rpkm_set$rpkm)),]\n",
    "fcount_SE_merge_001_rpkm_gene_log = log10(fcount_SE_merge_001_rpkm_gene+1)\n",
    "\n",
    "dim(fcount_SE_merge_001_rpkm_gene)\n",
    "dim(fcount_SE_merge_001_rpkm_gene_log)"
   ]
  },
  {
   "cell_type": "markdown",
   "metadata": {},
   "source": [
    "#### >> plot expression corr and detected genes"
   ]
  },
  {
   "cell_type": "code",
   "execution_count": null,
   "metadata": {},
   "outputs": [],
   "source": [
    "### plot detgenes num\n",
    "options(repr.plot.width=6, repr.plot.height=6)\n",
    "bar_detgene_001 = plot_detgene_bar(fcount_SE_merge_001_rpkm_gene, fcount_SE_merge_001_rpkm_gene_log, nonplot=exclude_samplename)"
   ]
  },
  {
   "cell_type": "code",
   "execution_count": null,
   "metadata": {},
   "outputs": [],
   "source": [
    "options(repr.plot.width=10, repr.plot.height=4)\n",
    "plot_grid(bar_detgene_001)"
   ]
  },
  {
   "cell_type": "markdown",
   "metadata": {},
   "source": [
    "## 5. plotting Dimensionality Reduction plot"
   ]
  },
  {
   "cell_type": "code",
   "execution_count": null,
   "metadata": {},
   "outputs": [],
   "source": [
    "### pca\n",
    "fcount_SE_dimentrd_set = create_pca_tsne_umap_mode(fcount_SE_merge_001_rpkm_gene_log, mode=\"pca\", perplexity=10, local_connectivity=1.0, n_neighbors=15)\n",
    "g1 = ggplot_2D(fcount_SE_dimentrd_set[[\"data_df\"]], \"PC1\", \"PC2\", \"pca plot\", \"\", outdir)\n",
    "\n",
    "options(repr.plot.width=5, repr.plot.height=4)\n",
    "plot_grid(g1)"
   ]
  },
  {
   "cell_type": "code",
   "execution_count": null,
   "metadata": {},
   "outputs": [],
   "source": [
    "### tsne\n",
    "fcount_SE_dimentrd_set = create_pca_tsne_umap_mode(fcount_SE_merge_001_rpkm_gene_log, mode=\"tsne\", perplexity=10, local_connectivity=1.0, n_neighbors=15)\n",
    "g1 = ggplot_2D(fcount_SE_dimentrd_set[[\"data_df\"]], \"V1\", \"V2\", \"tsne plot\", \"\", outdir)\n",
    "\n",
    "options(repr.plot.width=5, repr.plot.height=4)\n",
    "plot_grid(g1)"
   ]
  },
  {
   "cell_type": "code",
   "execution_count": null,
   "metadata": {},
   "outputs": [],
   "source": [
    "### umap\n",
    "fcount_SE_dimentrd_set = create_pca_tsne_umap_mode(fcount_SE_merge_001_rpkm_gene_log, mode=\"umap\", perplexity=10, local_connectivity=1.0, n_neighbors=15)\n",
    "g1 = ggplot_2D(fcount_SE_dimentrd_set[[\"data_df\"]], \"V1\", \"V2\", \"umap plot\", \"\", outdir)\n",
    "\n",
    "options(repr.plot.width=5, repr.plot.height=4)\n",
    "plot_grid(g1)"
   ]
  },
  {
   "cell_type": "code",
   "execution_count": null,
   "metadata": {},
   "outputs": [],
   "source": []
  }
 ],
 "metadata": {
  "kernelspec": {
   "display_name": "R",
   "language": "R",
   "name": "ir"
  },
  "language_info": {
   "codemirror_mode": "r",
   "file_extension": ".r",
   "mimetype": "text/x-r-source",
   "name": "R",
   "pygments_lexer": "r",
   "version": "3.6.1"
  }
 },
 "nbformat": 4,
 "nbformat_minor": 4
}
